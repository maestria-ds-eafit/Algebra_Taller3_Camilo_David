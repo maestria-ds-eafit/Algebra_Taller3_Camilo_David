{
 "cells": [
  {
   "cell_type": "code",
   "execution_count": 81,
   "metadata": {},
   "outputs": [],
   "source": [
    "import numpy as np\n",
    "from sklearn.linear_model import LinearRegression"
   ]
  },
  {
   "cell_type": "code",
   "execution_count": 82,
   "metadata": {},
   "outputs": [],
   "source": [
    "def gram_schmidt(A):\n",
    "    m, n = A.shape\n",
    "    Q = np.zeros((m,n))\n",
    "    R = np.zeros((n,n))\n",
    "    for j in range(n):\n",
    "        v = A[:, j]\n",
    "        W = v\n",
    "        for i in range(j):\n",
    "            W = W - (np.dot(v, Q[:, i])) * Q[:, i]\n",
    "        norm_W = np.linalg.norm(W)\n",
    "        Q[:, j] = W / norm_W\n",
    "        for i in range(j):\n",
    "            R[i][j] = np.dot(v, Q[:, i])\n",
    "        R[j][j] = norm_W\n",
    "    return Q, R"
   ]
  },
  {
   "cell_type": "code",
   "execution_count": 83,
   "metadata": {},
   "outputs": [],
   "source": [
    "A = np.array([[3,2,-1], [3,-2,0], [3,2,1], [3,-2,0], [3,2,-1]])"
   ]
  },
  {
   "cell_type": "code",
   "execution_count": 85,
   "metadata": {},
   "outputs": [],
   "source": [
    "Q, R = gram_schmidt(A)"
   ]
  },
  {
   "cell_type": "code",
   "execution_count": 87,
   "metadata": {},
   "outputs": [
    {
     "data": {
      "text/plain": [
       "array([[ 4.47213595e-01,  3.65148372e-01, -4.08248290e-01],\n",
       "       [ 4.47213595e-01, -5.47722558e-01, -3.39934989e-17],\n",
       "       [ 4.47213595e-01,  3.65148372e-01,  8.16496581e-01],\n",
       "       [ 4.47213595e-01, -5.47722558e-01, -3.39934989e-17],\n",
       "       [ 4.47213595e-01,  3.65148372e-01, -4.08248290e-01]])"
      ]
     },
     "execution_count": 87,
     "metadata": {},
     "output_type": "execute_result"
    }
   ],
   "source": [
    "Q"
   ]
  },
  {
   "cell_type": "code",
   "execution_count": 89,
   "metadata": {},
   "outputs": [
    {
     "data": {
      "text/plain": [
       "array([[ 6.70820393,  0.89442719, -0.4472136 ],\n",
       "       [ 0.        ,  4.38178046, -0.36514837],\n",
       "       [ 0.        ,  0.        ,  1.63299316]])"
      ]
     },
     "execution_count": 89,
     "metadata": {},
     "output_type": "execute_result"
    }
   ],
   "source": [
    "R"
   ]
  },
  {
   "cell_type": "code",
   "execution_count": 91,
   "metadata": {},
   "outputs": [],
   "source": [
    "X = np.random.rand(100, 3)\n",
    "X = np.concatenate((np.ones((100, 1)), X), axis=1)\n",
    "y = np.random.rand(100, 1)"
   ]
  },
  {
   "cell_type": "code",
   "execution_count": 94,
   "metadata": {},
   "outputs": [],
   "source": [
    "Q, R = gram_schmidt(X)"
   ]
  },
  {
   "cell_type": "code",
   "execution_count": 95,
   "metadata": {},
   "outputs": [],
   "source": [
    "m, n = Q.shape"
   ]
  },
  {
   "cell_type": "code",
   "execution_count": 96,
   "metadata": {},
   "outputs": [],
   "source": [
    "b = Q.T @ y"
   ]
  },
  {
   "cell_type": "code",
   "execution_count": 97,
   "metadata": {},
   "outputs": [],
   "source": [
    "def backward_substitution(U, b):\n",
    "    n = len(b)\n",
    "    x = np.zeros_like(b)\n",
    "    \n",
    "    for i in range(n - 1, -1, -1):\n",
    "        sum_j = sum(U[i,j] * x[j] for j in range(i + 1, n))\n",
    "        x[i] = (b[i] - sum_j) / U[i,i]\n",
    "\n",
    "    return x"
   ]
  },
  {
   "cell_type": "code",
   "execution_count": 98,
   "metadata": {},
   "outputs": [
    {
     "data": {
      "text/plain": [
       "array([-1,  3])"
      ]
     },
     "execution_count": 98,
     "metadata": {},
     "output_type": "execute_result"
    }
   ],
   "source": [
    "backward_substitution(np.array([[1, 2], [0, 2]]), np.array([5, 6]))"
   ]
  },
  {
   "cell_type": "code",
   "execution_count": 99,
   "metadata": {},
   "outputs": [],
   "source": [
    "coefficients = backward_substitution(R, b)"
   ]
  },
  {
   "cell_type": "code",
   "execution_count": 100,
   "metadata": {},
   "outputs": [
    {
     "data": {
      "text/plain": [
       "array([[ 0.59254515],\n",
       "       [-0.24007033],\n",
       "       [-0.06637677],\n",
       "       [ 0.08290641]])"
      ]
     },
     "execution_count": 100,
     "metadata": {},
     "output_type": "execute_result"
    }
   ],
   "source": [
    "coefficients"
   ]
  },
  {
   "cell_type": "code",
   "execution_count": 101,
   "metadata": {},
   "outputs": [
    {
     "data": {
      "text/plain": [
       "array([[ 0.59254515, -0.24007033, -0.06637677,  0.08290641]])"
      ]
     },
     "execution_count": 101,
     "metadata": {},
     "output_type": "execute_result"
    }
   ],
   "source": [
    "lr = LinearRegression(fit_intercept=False)\n",
    "lr.fit(X, y)\n",
    "lr.coef_"
   ]
  }
 ],
 "metadata": {
  "kernelspec": {
   "display_name": "Algebra_Taller3_Camilo_David-iO2jm3hJ",
   "language": "python",
   "name": "python3"
  },
  "language_info": {
   "codemirror_mode": {
    "name": "ipython",
    "version": 3
   },
   "file_extension": ".py",
   "mimetype": "text/x-python",
   "name": "python",
   "nbconvert_exporter": "python",
   "pygments_lexer": "ipython3",
   "version": "3.11.5"
  }
 },
 "nbformat": 4,
 "nbformat_minor": 2
}
