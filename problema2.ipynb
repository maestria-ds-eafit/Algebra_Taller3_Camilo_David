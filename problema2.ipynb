{
 "cells": [
  {
   "cell_type": "code",
   "execution_count": 2,
   "metadata": {},
   "outputs": [],
   "source": [
    "import numpy as np\n",
    "import scipy"
   ]
  },
  {
   "cell_type": "markdown",
   "metadata": {},
   "source": [
    "A) Implemente un algoritmo para calcular la factorización QR de una\n",
    "matríz basando en el proceso de ortogonalización de Grahm-Schmidt.\n",
    "El algoritmo debe recibir una matriz A de tamaño m × n con m ≥ n\n",
    "y retornar una matriz Q de tamaño m × n y una matriz triangular\n",
    "superior R de tamaño n×n, tales que QtQ = In y A = QR. Compare\n",
    "los resultados de su algoritmo con los de la función scipy.linalg.qr."
   ]
  },
  {
   "cell_type": "code",
   "execution_count": 3,
   "metadata": {},
   "outputs": [],
   "source": [
    "def gram_schmidt(A):\n",
    "    m, n = A.shape\n",
    "    Q = np.zeros((m, n))\n",
    "    R = np.zeros((n, n))\n",
    "    for j in range(n):\n",
    "        v = A[:, j]\n",
    "        W = v\n",
    "        for i in range(j):\n",
    "            W = W - (np.dot(v, Q[:, i])) * Q[:, i]\n",
    "        norm_W = np.linalg.norm(W)\n",
    "        Q[:, j] = W / norm_W\n",
    "        for i in range(j):\n",
    "            R[i][j] = np.dot(v, Q[:, i])\n",
    "        R[j][j] = norm_W\n",
    "    return Q, R"
   ]
  },
  {
   "cell_type": "markdown",
   "metadata": {},
   "source": [
    "B) ¿Que pasa con la factorización QR cuando las columnas son linealmente\n",
    "dependientes?"
   ]
  },
  {
   "cell_type": "code",
   "execution_count": 4,
   "metadata": {},
   "outputs": [
    {
     "data": {
      "text/plain": [
       "array([[1, 2, 1],\n",
       "       [1, 2, 6],\n",
       "       [1, 2, 7]])"
      ]
     },
     "execution_count": 4,
     "metadata": {},
     "output_type": "execute_result"
    }
   ],
   "source": [
    "A = np.array([[1, 1, 1], [2, 2, 2], [1, 6, 7]]).T\n",
    "A"
   ]
  },
  {
   "cell_type": "code",
   "execution_count": 5,
   "metadata": {},
   "outputs": [
    {
     "name": "stdout",
     "output_type": "stream",
     "text": [
      "Q: [[ 0.57735027 -0.57735027 -0.89860644]\n",
      " [ 0.57735027 -0.57735027 -0.35944258]\n",
      " [ 0.57735027 -0.57735027 -0.2516098 ]]\n",
      "R: [[ 1.73205081e+00  3.46410162e+00  8.08290377e+00]\n",
      " [ 0.00000000e+00  7.69185075e-16 -8.08290377e+00]\n",
      " [ 0.00000000e+00  0.00000000e+00  9.27361850e+00]]\n"
     ]
    }
   ],
   "source": [
    "Q, R = gram_schmidt(A)\n",
    "print(f\"Q: {Q}\")\n",
    "print(f\"R: {R}\")"
   ]
  },
  {
   "cell_type": "code",
   "execution_count": 6,
   "metadata": {},
   "outputs": [
    {
     "name": "stdout",
     "output_type": "stream",
     "text": [
      "-1.0000000000000002\n",
      "-0.8716019289105668\n",
      "0.8716019289105668\n"
     ]
    }
   ],
   "source": [
    "print(Q[:, 0] @ Q[:, 1])\n",
    "print(Q[:, 0] @ Q[:, 2])\n",
    "print(Q[:, 1] @ Q[:, 2])"
   ]
  },
  {
   "cell_type": "code",
   "execution_count": 7,
   "metadata": {},
   "outputs": [
    {
     "data": {
      "text/plain": [
       "array([[ 1.        , -1.        , -0.87160193],\n",
       "       [-1.        ,  1.        ,  0.87160193],\n",
       "       [-0.87160193,  0.87160193,  1.        ]])"
      ]
     },
     "execution_count": 7,
     "metadata": {},
     "output_type": "execute_result"
    }
   ],
   "source": [
    "Q.T @ Q"
   ]
  },
  {
   "cell_type": "markdown",
   "metadata": {},
   "source": [
    "Cuando hay columnas que son combinaciones lineales de otras, es decir, las columnas de la matriz no son linealmente independientes, entonces ocurren varias cosas:\n",
    "\n",
    "1) Las columnas de la matriz Q, no son ortogonales\n",
    "2) Por lo tanto, Q.T * Q no es igual a la matriz identidad\n",
    "3) Notamos que R sigue siendo una matriz triangular superior, pero tiene ceros en la diagonal, por lo tanto no es una matriz invertible y tiene determinante igual a cero.\n",
    "4) La factorización ya no es única"
   ]
  },
  {
   "cell_type": "markdown",
   "metadata": {},
   "source": [
    "C) Averigüe bajo cuales condiciones la factorización QR es única."
   ]
  },
  {
   "cell_type": "markdown",
   "metadata": {},
   "source": [
    "La factorización es única cuando las columnas de la matriz A son linealmente independientes."
   ]
  },
  {
   "cell_type": "markdown",
   "metadata": {},
   "source": [
    "Probamos encontrar A a partir de Q*R"
   ]
  },
  {
   "cell_type": "code",
   "execution_count": 8,
   "metadata": {},
   "outputs": [
    {
     "data": {
      "text/plain": [
       "array([[1., 2., 1.],\n",
       "       [1., 2., 6.],\n",
       "       [1., 2., 7.]])"
      ]
     },
     "execution_count": 8,
     "metadata": {},
     "output_type": "execute_result"
    }
   ],
   "source": [
    "Q @ R"
   ]
  },
  {
   "cell_type": "markdown",
   "metadata": {},
   "source": [
    "# Haciendo cálculo con otras matrices:"
   ]
  },
  {
   "cell_type": "code",
   "execution_count": 9,
   "metadata": {},
   "outputs": [
    {
     "data": {
      "text/plain": [
       "array([[ 3,  2, -1],\n",
       "       [ 3, -2,  0],\n",
       "       [ 3,  2,  1],\n",
       "       [ 3, -2,  0],\n",
       "       [ 3,  2, -1]])"
      ]
     },
     "execution_count": 9,
     "metadata": {},
     "output_type": "execute_result"
    }
   ],
   "source": [
    "A = np.array([[3, 2, -1], [3, -2, 0], [3, 2, 1], [3, -2, 0], [3, 2, -1]])\n",
    "A"
   ]
  },
  {
   "cell_type": "code",
   "execution_count": 10,
   "metadata": {},
   "outputs": [
    {
     "name": "stdout",
     "output_type": "stream",
     "text": [
      "Q: [[ 0.4472136   0.36514837 -0.40824829]\n",
      " [ 0.4472136  -0.54772256  0.        ]\n",
      " [ 0.4472136   0.36514837  0.81649658]\n",
      " [ 0.4472136  -0.54772256  0.        ]\n",
      " [ 0.4472136   0.36514837 -0.40824829]]\n",
      "R: [[ 6.70820393  0.89442719 -0.4472136 ]\n",
      " [ 0.          4.38178046 -0.36514837]\n",
      " [ 0.          0.          1.63299316]]\n"
     ]
    }
   ],
   "source": [
    "Q, R = gram_schmidt(A)\n",
    "print(f\"Q: {Q}\")\n",
    "print(f\"R: {R}\")"
   ]
  },
  {
   "cell_type": "code",
   "execution_count": 11,
   "metadata": {},
   "outputs": [
    {
     "data": {
      "text/plain": [
       "array([[ 1.,  0., -0.],\n",
       "       [ 0.,  1., -0.],\n",
       "       [-0., -0.,  1.]])"
      ]
     },
     "execution_count": 11,
     "metadata": {},
     "output_type": "execute_result"
    }
   ],
   "source": [
    "(Q.T @ Q).round()"
   ]
  },
  {
   "cell_type": "code",
   "execution_count": 12,
   "metadata": {},
   "outputs": [
    {
     "data": {
      "text/plain": [
       "array([[ 3.,  2., -1.],\n",
       "       [ 3., -2., -0.],\n",
       "       [ 3.,  2.,  1.],\n",
       "       [ 3., -2., -0.],\n",
       "       [ 3.,  2., -1.]])"
      ]
     },
     "execution_count": 12,
     "metadata": {},
     "output_type": "execute_result"
    }
   ],
   "source": [
    "(Q @ R).round()"
   ]
  },
  {
   "cell_type": "code",
   "execution_count": 16,
   "metadata": {},
   "outputs": [
    {
     "name": "stdout",
     "output_type": "stream",
     "text": [
      "Q:\n",
      " [[-4.47213595e-01  3.65148372e-01  4.08248290e-01]\n",
      " [-4.47213595e-01 -5.47722558e-01 -5.55111512e-17]\n",
      " [-4.47213595e-01  3.65148372e-01 -8.16496581e-01]\n",
      " [-4.47213595e-01 -5.47722558e-01 -2.77555756e-17]\n",
      " [-4.47213595e-01  3.65148372e-01  4.08248290e-01]]\n",
      "Shape of Q: (5, 3)\n",
      "R:\n",
      " [[-6.70820393 -0.89442719  0.4472136 ]\n",
      " [ 0.          4.38178046 -0.36514837]\n",
      " [ 0.          0.         -1.63299316]]\n",
      "Shape of R: (3, 3)\n"
     ]
    }
   ],
   "source": [
    "Q_s, R_s = scipy.linalg.qr(A, mode=\"economic\")\n",
    "print(f\"Q:\\n {Q_s}\")\n",
    "print(f\"Shape of Q: {Q_s.shape}\")\n",
    "print(f\"R:\\n {R_s}\")\n",
    "print(f\"Shape of R: {R_s.shape}\")"
   ]
  },
  {
   "cell_type": "code",
   "execution_count": 17,
   "metadata": {},
   "outputs": [
    {
     "data": {
      "text/plain": [
       "array([[1., 0., 0.],\n",
       "       [0., 1., 0.],\n",
       "       [0., 0., 1.]])"
      ]
     },
     "execution_count": 17,
     "metadata": {},
     "output_type": "execute_result"
    }
   ],
   "source": [
    "(Q_s.T @ Q_s).round()"
   ]
  },
  {
   "cell_type": "code",
   "execution_count": 18,
   "metadata": {},
   "outputs": [
    {
     "name": "stdout",
     "output_type": "stream",
     "text": [
      "[[ 3.00000000e+00  2.00000000e+00 -1.00000000e+00]\n",
      " [ 3.00000000e+00 -2.00000000e+00  1.34305839e-16]\n",
      " [ 3.00000000e+00  2.00000000e+00  1.00000000e+00]\n",
      " [ 3.00000000e+00 -2.00000000e+00  1.29520787e-16]\n",
      " [ 3.00000000e+00  2.00000000e+00 -1.00000000e+00]]\n"
     ]
    }
   ],
   "source": [
    "print(Q_s @ R_s)"
   ]
  }
 ],
 "metadata": {
  "kernelspec": {
   "display_name": "Algebra_Taller3_Camilo_David-iO2jm3hJ",
   "language": "python",
   "name": "python3"
  },
  "language_info": {
   "codemirror_mode": {
    "name": "ipython",
    "version": 3
   },
   "file_extension": ".py",
   "mimetype": "text/x-python",
   "name": "python",
   "nbconvert_exporter": "python",
   "pygments_lexer": "ipython3",
   "version": "3.11.5"
  }
 },
 "nbformat": 4,
 "nbformat_minor": 2
}
