{
 "cells": [
  {
   "cell_type": "code",
   "execution_count": 223,
   "metadata": {},
   "outputs": [],
   "source": [
    "import numpy as np\n",
    "import scipy.linalg as sla\n",
    "from scipy.linalg import eig"
   ]
  },
  {
   "cell_type": "markdown",
   "metadata": {},
   "source": [
    "# Power method"
   ]
  },
  {
   "cell_type": "code",
   "execution_count": 224,
   "metadata": {},
   "outputs": [],
   "source": [
    "def power_method(A, X, tolerance=0.0001, max_iterations=200):\n",
    "    m = 0\n",
    "    difference = X\n",
    "    while m < max_iterations and np.linalg.norm(difference) > tolerance:\n",
    "        X_previous = X\n",
    "        X = A @ X\n",
    "        X = X / np.linalg.norm(X)\n",
    "        difference = X - X_previous\n",
    "        m += 1\n",
    "    eigenvalue = np.linalg.norm(A @ X)\n",
    "    print(\"Eigenvector corresponding to biggest eigenvalue is approximately:\")\n",
    "    print(X, \"\\n\")\n",
    "    print(\"Magnitude of the biggest eigenvalue is approximately:\")\n",
    "    print(eigenvalue, \"\\n\")\n",
    "    return eigenvalue, X"
   ]
  },
  {
   "cell_type": "markdown",
   "metadata": {},
   "source": [
    "# Inverse power method"
   ]
  },
  {
   "cell_type": "code",
   "execution_count": 225,
   "metadata": {},
   "outputs": [],
   "source": [
    "def inverse_power_method(A, X, tolerance=0.0001, max_iterations=200):\n",
    "    m = 0\n",
    "    difference = X\n",
    "    LU_factorization = sla.lu_factor(A)\n",
    "\n",
    "    while m < max_iterations and np.linalg.norm(difference) > tolerance:\n",
    "        X_previous = X\n",
    "        X = sla.lu_solve(LU_factorization, X)\n",
    "        X = X / np.linalg.norm(X)\n",
    "        difference = X - X_previous\n",
    "        m = m + 1\n",
    "\n",
    "    eigenvalue = np.linalg.norm(A @ X)\n",
    "    print(\"Eigenvector corresponding to smallest eignvalue is approximately:\")\n",
    "    print(X, \"\\n\")\n",
    "    print(\"Magnitude of the smallest eigenvalue of A is approximately:\")\n",
    "    print(eigenvalue, \"\\n\")\n",
    "    return eigenvalue, X"
   ]
  },
  {
   "cell_type": "markdown",
   "metadata": {},
   "source": [
    "# Shifted inverse power method"
   ]
  },
  {
   "cell_type": "code",
   "execution_count": 226,
   "metadata": {},
   "outputs": [],
   "source": [
    "def shifted_inverse_power_method(A, X, mu=None, tolerance=0.0001, max_iterations=200):\n",
    "    m = 0\n",
    "    difference = X\n",
    "    I = np.eye(len(A))\n",
    "    if not mu:\n",
    "        max_eigenvalue, _ = power_method(A, X)\n",
    "        min_eigenvalue, _ = inverse_power_method(A, X)\n",
    "        mu = np.average([max_eigenvalue, min_eigenvalue])\n",
    "    Shifted_A = A - mu * I\n",
    "    LU_factorization = sla.lu_factor(Shifted_A)\n",
    "\n",
    "    while m < max_iterations and np.linalg.norm(difference) > tolerance:\n",
    "        X_previous = X\n",
    "        X = sla.lu_solve(LU_factorization, X)\n",
    "        X = X / np.linalg.norm(X)\n",
    "\n",
    "        ## Compute difference in stopping condition\n",
    "        difference = X - X_previous\n",
    "\n",
    "        m = m + 1\n",
    "    eigenvalue = np.linalg.norm(A @ X)\n",
    "    print(\"Eigenvector is approximately:\")\n",
    "    print(X, \"\\n\")\n",
    "    print(\"Eigenvalue of A is approximately:\")\n",
    "    print(eigenvalue)\n",
    "    return eigenvalue, X"
   ]
  },
  {
   "cell_type": "markdown",
   "metadata": {},
   "source": [
    "# Ejercicios"
   ]
  },
  {
   "cell_type": "markdown",
   "metadata": {},
   "source": [
    "Exercise 1: Let A\n",
    " be the matrix from the Inverse Power Method example."
   ]
  },
  {
   "cell_type": "markdown",
   "metadata": {},
   "source": [
    "(a) Use the Power Method to approximate the largest eigenvalue λ1\n",
    ". Verify that the exact value of λ1 is 12."
   ]
  },
  {
   "cell_type": "code",
   "execution_count": 227,
   "metadata": {},
   "outputs": [
    {
     "name": "stdout",
     "output_type": "stream",
     "text": [
      "Eigenvector corresponding to biggest eigenvalue is approximately:\n",
      "[ 0.70711487  0.         -0.70709869] \n",
      "\n",
      "Magnitude of the biggest eigenvalue is approximately:\n",
      "12.000034331669662 \n",
      "\n"
     ]
    },
    {
     "data": {
      "text/plain": [
       "(12.000034331669662, array([ 0.70711487,  0.        , -0.70709869]))"
      ]
     },
     "execution_count": 227,
     "metadata": {},
     "output_type": "execute_result"
    }
   ],
   "source": [
    "A = np.array([[9, -1, -3], [0, 6, 0], [-6, 3, 6]])\n",
    "X = np.array([1, 0, 0])\n",
    "power_method(A, X, tolerance=0.0001, max_iterations=200)"
   ]
  },
  {
   "cell_type": "markdown",
   "metadata": {},
   "source": [
    "(b) Apply the Inverse Power Method with a shift of μ=10. Explain why the results differ from those in the example."
   ]
  },
  {
   "cell_type": "code",
   "execution_count": 228,
   "metadata": {},
   "outputs": [
    {
     "name": "stdout",
     "output_type": "stream",
     "text": [
      "Eigenvector is approximately:\n",
      "[-7.07113254e-01 -1.94211789e-05  7.07100308e-01] \n",
      "\n",
      "Eigenvalue of A is approximately:\n",
      "11.999972530202639\n"
     ]
    },
    {
     "data": {
      "text/plain": [
       "(11.999972530202639,\n",
       " array([-7.07113254e-01, -1.94211789e-05,  7.07100308e-01]))"
      ]
     },
     "execution_count": 228,
     "metadata": {},
     "output_type": "execute_result"
    }
   ],
   "source": [
    "A = np.array([[9, -1, -3], [0, 6, 0], [-6, 3, 6]])\n",
    "X = np.array([0, 1, 0])\n",
    "shifted_inverse_power_method(A, X, mu=10, tolerance=0.0001, max_iterations=200)"
   ]
  },
  {
   "cell_type": "markdown",
   "metadata": {},
   "source": [
    "El resultado es diferente al ejemplo con un Mu que se aleja de la mitad del eigenvalue minimo y maximo, por lo tanto me acerco al eigen value maximo."
   ]
  },
  {
   "cell_type": "markdown",
   "metadata": {},
   "source": [
    "(c) Apply the Inverse Power Method with a shift of 𝜇=7.5\n",
    " and the initial vector given below. Explain why the sequence of vectors approach the eigenvector corresponding to 𝜆1"
   ]
  },
  {
   "cell_type": "code",
   "execution_count": 229,
   "metadata": {},
   "outputs": [
    {
     "name": "stdout",
     "output_type": "stream",
     "text": [
      "Eigenvector is approximately:\n",
      "[ 1. -0. -0.] \n",
      "\n",
      "Eigenvalue of A is approximately:\n",
      "10.816653826391969\n"
     ]
    },
    {
     "data": {
      "text/plain": [
       "(10.816653826391969, array([ 1., -0., -0.]))"
      ]
     },
     "execution_count": 229,
     "metadata": {},
     "output_type": "execute_result"
    }
   ],
   "source": [
    "A = np.array([[9, -1, -3], [0, 6, 0], [-6, 3, 6]])\n",
    "X = np.array([1, 0, 0])\n",
    "shifted_inverse_power_method(A, X, mu=7.5, tolerance=0.000001, max_iterations=1000)"
   ]
  },
  {
   "cell_type": "markdown",
   "metadata": {},
   "source": [
    "Lo que pasa no es que se acerque al eigen value máximo, sino que el método no converge con este vector en particular. Si se cambia el vector inicial, el método converge."
   ]
  },
  {
   "cell_type": "markdown",
   "metadata": {},
   "source": [
    "### Exercise 2:\n",
    "Let B be the following matrix."
   ]
  },
  {
   "cell_type": "markdown",
   "metadata": {},
   "source": [
    "(a) Apply the Power Method and Inverse Power Method with shifts to approximate all eigenvalues of the matrix B. (Note that one of the eigenvalues of this matrix is negative.)"
   ]
  },
  {
   "cell_type": "code",
   "execution_count": 231,
   "metadata": {},
   "outputs": [],
   "source": [
    "A = np.array([[-2, -18, 6], [-11, 3, 11], [-27, 15, 31]])\n",
    "X = np.array([0, 1, 0])"
   ]
  },
  {
   "cell_type": "code",
   "execution_count": 232,
   "metadata": {},
   "outputs": [
    {
     "name": "stdout",
     "output_type": "stream",
     "text": [
      "Eigenvector corresponding to smallest eignvalue is approximately:\n",
      "[-7.07095991e-01  2.15801743e-05 -7.07117571e-01] \n",
      "\n",
      "Magnitude of the smallest eigenvalue of A is approximately:\n",
      "4.000549345743139 \n",
      "\n"
     ]
    },
    {
     "data": {
      "text/plain": [
       "(4.000549345743139, array([-7.07095991e-01,  2.15801743e-05, -7.07117571e-01]))"
      ]
     },
     "execution_count": 232,
     "metadata": {},
     "output_type": "execute_result"
    }
   ],
   "source": [
    "inverse_power_method(A, X, tolerance=0.0001, max_iterations=200)"
   ]
  },
  {
   "cell_type": "code",
   "execution_count": 233,
   "metadata": {},
   "outputs": [
    {
     "name": "stdout",
     "output_type": "stream",
     "text": [
      "Eigenvector corresponding to biggest eigenvalue is approximately:\n",
      "[1.12395332e-05 3.16231164e-01 9.48682165e-01] \n",
      "\n",
      "Magnitude of the biggest eigenvalue is approximately:\n",
      "35.999687334908465 \n",
      "\n"
     ]
    },
    {
     "data": {
      "text/plain": [
       "(35.999687334908465, array([1.12395332e-05, 3.16231164e-01, 9.48682165e-01]))"
      ]
     },
     "execution_count": 233,
     "metadata": {},
     "output_type": "execute_result"
    }
   ],
   "source": [
    "power_method(A, X, tolerance=0.0001, max_iterations=200)"
   ]
  },
  {
   "cell_type": "code",
   "execution_count": 234,
   "metadata": {},
   "outputs": [
    {
     "name": "stdout",
     "output_type": "stream",
     "text": [
      "Eigenvector corresponding to biggest eigenvalue is approximately:\n",
      "[1.12395332e-05 3.16231164e-01 9.48682165e-01] \n",
      "\n",
      "Magnitude of the biggest eigenvalue is approximately:\n",
      "35.999687334908465 \n",
      "\n",
      "Eigenvector corresponding to smallest eignvalue is approximately:\n",
      "[-7.07095991e-01  2.15801743e-05 -7.07117571e-01] \n",
      "\n",
      "Magnitude of the smallest eigenvalue of A is approximately:\n",
      "4.000549345743139 \n",
      "\n",
      "Eigenvector is approximately:\n",
      "[-0.88693195  0.15002491 -0.43685723] \n",
      "\n",
      "Eigenvalue of A is approximately:\n",
      "14.2092972315023\n"
     ]
    },
    {
     "data": {
      "text/plain": [
       "(14.2092972315023, array([-0.88693195,  0.15002491, -0.43685723]))"
      ]
     },
     "execution_count": 234,
     "metadata": {},
     "output_type": "execute_result"
    }
   ],
   "source": [
    "shifted_inverse_power_method(A, X, mu=None, tolerance=0.000001, max_iterations=1000)"
   ]
  },
  {
   "cell_type": "markdown",
   "metadata": {},
   "source": [
    "(b) Check your results using the eig function in SciPy."
   ]
  },
  {
   "cell_type": "code",
   "execution_count": 235,
   "metadata": {},
   "outputs": [
    {
     "name": "stdout",
     "output_type": "stream",
     "text": [
      "Valores propios de la matriz original:\n",
      " [36.+0.j -8.+0.j  4.+0.j]\n",
      "Vectores propios de la matriz original:\n",
      " [[ 1.02854624e-17 -8.16496581e-01  7.07106781e-01]\n",
      " [-3.16227766e-01 -4.08248290e-01  1.89360275e-16]\n",
      " [-9.48683298e-01 -4.08248290e-01  7.07106781e-01]]\n",
      "Valores propios de la matriz inversa:\n",
      " [ 0.25      +0.j -0.125     +0.j  0.02777778+0.j]\n",
      "Vectores propios de la matriz inversa:\n",
      " [[ 7.07106781e-01 -8.16496581e-01  4.90321070e-16]\n",
      " [-2.27036279e-17 -4.08248290e-01  3.16227766e-01]\n",
      " [ 7.07106781e-01 -4.08248290e-01  9.48683298e-01]]\n"
     ]
    }
   ],
   "source": [
    "# Calcula los valores y vectores propios de la matriz original\n",
    "valores_propios_original, vectores_propios_original = eig(A)\n",
    "print(f\"Valores propios de la matriz original:\\n {valores_propios_original}\")\n",
    "print(f\"Vectores propios de la matriz original:\\n {vectores_propios_original}\")\n",
    "\n",
    "# Calcula los valores y vectores propios de la matriz inversa\n",
    "valores_propios_inversa, vectores_propios_inversa = eig(np.linalg.inv(A))\n",
    "print(f\"Valores propios de la matriz inversa:\\n {valores_propios_inversa}\")\n",
    "print(f\"Vectores propios de la matriz inversa:\\n {vectores_propios_inversa}\")"
   ]
  }
 ],
 "metadata": {
  "kernelspec": {
   "display_name": "Algebra_Taller3_Camilo_David-gjIaPmk-",
   "language": "python",
   "name": "python3"
  },
  "language_info": {
   "codemirror_mode": {
    "name": "ipython",
    "version": 3
   },
   "file_extension": ".py",
   "mimetype": "text/x-python",
   "name": "python",
   "nbconvert_exporter": "python",
   "pygments_lexer": "ipython3",
   "version": "3.11.5"
  }
 },
 "nbformat": 4,
 "nbformat_minor": 2
}
