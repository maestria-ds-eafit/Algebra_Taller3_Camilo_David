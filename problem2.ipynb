{
 "cells": [
  {
   "cell_type": "code",
   "execution_count": 13,
   "metadata": {},
   "outputs": [],
   "source": [
    "import numpy as np"
   ]
  },
  {
   "cell_type": "markdown",
   "metadata": {},
   "source": [
    "A) Implemente un algoritmo para calcular la factorización QR de una\n",
    "matríz basando en el proceso de ortogonalización de Grahm-Schmidt.\n",
    "El algoritmo debe recibir una matriz A de tamaño m × n con m ≥ n\n",
    "y retornar una matriz Q de tamaño m × n y una matriz triangular\n",
    "superior R de tamaño n×n, tales que QtQ = In y A = QR. Compare\n",
    "los resultados de su algoritmo con los de la función scipy.linalg.qr."
   ]
  },
  {
   "cell_type": "code",
   "execution_count": 14,
   "metadata": {},
   "outputs": [],
   "source": [
    "def gram_schmidt(A):\n",
    "    m, n = A.shape\n",
    "    Q = np.zeros((m,n))\n",
    "    R = np.zeros((n,n))\n",
    "    for j in range(n):\n",
    "        v = A[:, j]\n",
    "        W = v\n",
    "        for i in range(j):\n",
    "            W = W - (np.dot(v, Q[:, i])) * Q[:, i]\n",
    "        norm_W = np.linalg.norm(W)\n",
    "        Q[:, j] = W / norm_W\n",
    "        for i in range(j):\n",
    "            R[i][j] = np.dot(v, Q[:, i])\n",
    "        R[j][j] = norm_W\n",
    "    return Q, R"
   ]
  },
  {
   "cell_type": "markdown",
   "metadata": {},
   "source": [
    "B) ¿Que pasa con la factorización QR cuando las columnas son linealmente\n",
    "dependientes?"
   ]
  },
  {
   "cell_type": "code",
   "execution_count": 15,
   "metadata": {},
   "outputs": [
    {
     "data": {
      "text/plain": [
       "array([[1, 2, 1],\n",
       "       [1, 2, 6],\n",
       "       [1, 2, 7]])"
      ]
     },
     "execution_count": 15,
     "metadata": {},
     "output_type": "execute_result"
    }
   ],
   "source": [
    "A = np.array([[1, 1, 1], [2, 2, 2], [1, 6, 7]]).T\n",
    "A"
   ]
  },
  {
   "cell_type": "code",
   "execution_count": 22,
   "metadata": {},
   "outputs": [
    {
     "name": "stdout",
     "output_type": "stream",
     "text": [
      "Q: [[ 0.57735027 -0.57735027 -0.89860644]\n",
      " [ 0.57735027 -0.57735027 -0.35944258]\n",
      " [ 0.57735027 -0.57735027 -0.2516098 ]]\n",
      "R: [[ 1.73205081e+00  3.46410162e+00  8.08290377e+00]\n",
      " [ 0.00000000e+00  7.69185075e-16 -8.08290377e+00]\n",
      " [ 0.00000000e+00  0.00000000e+00  9.27361850e+00]]\n"
     ]
    },
    {
     "data": {
      "text/plain": [
       "0.8716019289105666"
      ]
     },
     "execution_count": 22,
     "metadata": {},
     "output_type": "execute_result"
    }
   ],
   "source": [
    "Q, R = gram_schmidt(A)\n",
    "print(f\"Q: {Q}\")\n",
    "print(f\"R: {R}\")"
   ]
  },
  {
   "cell_type": "code",
   "execution_count": 25,
   "metadata": {},
   "outputs": [
    {
     "name": "stdout",
     "output_type": "stream",
     "text": [
      "-1.0000000000000002\n",
      "-0.8716019289105666\n",
      "0.8716019289105666\n"
     ]
    }
   ],
   "source": [
    "print(Q[:, 0] @ Q[:, 1])\n",
    "print(Q[:, 0] @ Q[:, 2])\n",
    "print(Q[:, 1] @ Q[:, 2])"
   ]
  },
  {
   "cell_type": "code",
   "execution_count": 17,
   "metadata": {},
   "outputs": [
    {
     "data": {
      "text/plain": [
       "array([[ 1.        , -1.        , -0.87160193],\n",
       "       [-1.        ,  1.        ,  0.87160193],\n",
       "       [-0.87160193,  0.87160193,  1.        ]])"
      ]
     },
     "execution_count": 17,
     "metadata": {},
     "output_type": "execute_result"
    }
   ],
   "source": [
    "Q.T @ Q"
   ]
  },
  {
   "cell_type": "markdown",
   "metadata": {},
   "source": [
    "Cuando hay columnas que son combinaciones lineales de otras, es decir, las columnas de la matriz no son linealmente independientes, entonces ocurren varias cosas:\n",
    "\n",
    "1) Las columnas de la matriz Q, no son ortogonales\n",
    "2) Por lo tanto, Q.T * Q no es igual a la matriz identidad\n",
    "3) Notamos que R sigue siendo una matriz triangular superior, pero tiene ceros en la diagonal, por lo tanto no es una matriz invertible y tiene determinante igual a cero.\n",
    "4) La factorización ya no es única"
   ]
  },
  {
   "cell_type": "markdown",
   "metadata": {},
   "source": [
    "C) Averigüe bajo cuales condiciones la factorización QR es única."
   ]
  },
  {
   "cell_type": "markdown",
   "metadata": {},
   "source": [
    "La factorización es única cuando las columnas de la matriz A son linealmente independientes."
   ]
  }
 ],
 "metadata": {
  "kernelspec": {
   "display_name": "Algebra_Taller3_Camilo_David-iO2jm3hJ",
   "language": "python",
   "name": "python3"
  },
  "language_info": {
   "codemirror_mode": {
    "name": "ipython",
    "version": 3
   },
   "file_extension": ".py",
   "mimetype": "text/x-python",
   "name": "python",
   "nbconvert_exporter": "python",
   "pygments_lexer": "ipython3",
   "version": "3.11.5"
  }
 },
 "nbformat": 4,
 "nbformat_minor": 2
}
